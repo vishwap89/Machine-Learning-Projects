{
 "cells": [
  {
   "cell_type": "code",
   "execution_count": 2,
   "metadata": {},
   "outputs": [
    {
     "data": {
      "text/html": [
       "        <script type=\"text/javascript\">\n",
       "        window.PlotlyConfig = {MathJaxConfig: 'local'};\n",
       "        if (window.MathJax) {MathJax.Hub.Config({SVG: {font: \"STIX-Web\"}});}\n",
       "        if (typeof require !== 'undefined') {\n",
       "        require.undef(\"plotly\");\n",
       "        requirejs.config({\n",
       "            paths: {\n",
       "                'plotly': ['https://cdn.plot.ly/plotly-latest.min']\n",
       "            }\n",
       "        });\n",
       "        require(['plotly'], function(Plotly) {\n",
       "            window._Plotly = Plotly;\n",
       "        });\n",
       "        }\n",
       "        </script>\n",
       "        "
      ]
     },
     "metadata": {},
     "output_type": "display_data"
    }
   ],
   "source": [
    "import pandas as pd\n",
    "import numpy as np\n",
    "import matplotlib.pyplot as plt\n",
    "%matplotlib inline\n",
    "import seaborn as sns\n",
    "sns.set(style='white')\n",
    "\n",
    "import warnings\n",
    "warnings.simplefilter(action='ignore', category=FutureWarning)\n",
    "warnings.simplefilter(action='ignore', category=UserWarning)\n",
    "import plotly.offline as py\n",
    "py.init_notebook_mode(connected=True)\n",
    "import plotly.graph_objs as go"
   ]
  },
  {
   "cell_type": "code",
   "execution_count": 3,
   "metadata": {},
   "outputs": [],
   "source": [
    "bseg = pd.read_excel(\"BSEG_filter.xlsx\")"
   ]
  },
  {
   "cell_type": "code",
   "execution_count": 4,
   "metadata": {},
   "outputs": [],
   "source": [
    "bsad = pd.read_excel(\"BSAD_filter.xlsx\")"
   ]
  },
  {
   "cell_type": "code",
   "execution_count": 2,
   "metadata": {},
   "outputs": [],
   "source": [
    "df = pd.read_excel(\"customers.xlsx\")"
   ]
  },
  {
   "cell_type": "code",
   "execution_count": 3,
   "metadata": {},
   "outputs": [
    {
     "data": {
      "text/html": [
       "<div>\n",
       "<style scoped>\n",
       "    .dataframe tbody tr th:only-of-type {\n",
       "        vertical-align: middle;\n",
       "    }\n",
       "\n",
       "    .dataframe tbody tr th {\n",
       "        vertical-align: top;\n",
       "    }\n",
       "\n",
       "    .dataframe thead th {\n",
       "        text-align: right;\n",
       "    }\n",
       "</style>\n",
       "<table border=\"1\" class=\"dataframe\">\n",
       "  <thead>\n",
       "    <tr style=\"text-align: right;\">\n",
       "      <th></th>\n",
       "      <th>Dataset</th>\n",
       "      <th>Account</th>\n",
       "      <th>Name_1</th>\n",
       "      <th>Name_1.1</th>\n",
       "      <th>place_name</th>\n",
       "    </tr>\n",
       "  </thead>\n",
       "  <tbody>\n",
       "    <tr>\n",
       "      <td>0</td>\n",
       "      <td>2019 Population</td>\n",
       "      <td>6017231</td>\n",
       "      <td>ROUSES POINT VILLAGE CORPORATION</td>\n",
       "      <td>ROUSES POINT VILLAGE CORPORATION</td>\n",
       "      <td>ROUSES POINT VILLAGE</td>\n",
       "    </tr>\n",
       "    <tr>\n",
       "      <td>1</td>\n",
       "      <td>2019 Population</td>\n",
       "      <td>6361056</td>\n",
       "      <td>LORAIN HOLDINGS</td>\n",
       "      <td>LORAIN HOLDINGS</td>\n",
       "      <td>LORAIN</td>\n",
       "    </tr>\n",
       "    <tr>\n",
       "      <td>2</td>\n",
       "      <td>2019 Population</td>\n",
       "      <td>6360157</td>\n",
       "      <td>ROCKY HILL BOROUGH LLC</td>\n",
       "      <td>ROCKY HILL BOROUGH LLC</td>\n",
       "      <td>ROCKY HILL BOROUGH</td>\n",
       "    </tr>\n",
       "    <tr>\n",
       "      <td>3</td>\n",
       "      <td>2019 Population</td>\n",
       "      <td>6360127</td>\n",
       "      <td>BATESVILLE ADMINISTRATION</td>\n",
       "      <td>BATESVILLE ADMINISTRATION</td>\n",
       "      <td>BATESVILLE</td>\n",
       "    </tr>\n",
       "    <tr>\n",
       "      <td>4</td>\n",
       "      <td>2019 Population</td>\n",
       "      <td>6046331</td>\n",
       "      <td>FALMOUTH COOPERATIVE</td>\n",
       "      <td>FALMOUTH COOPERATIVE</td>\n",
       "      <td>FALMOUTH</td>\n",
       "    </tr>\n",
       "  </tbody>\n",
       "</table>\n",
       "</div>"
      ],
      "text/plain": [
       "           Dataset  Account                            Name_1  \\\n",
       "0  2019 Population  6017231  ROUSES POINT VILLAGE CORPORATION   \n",
       "1  2019 Population  6361056                   LORAIN HOLDINGS   \n",
       "2  2019 Population  6360157            ROCKY HILL BOROUGH LLC   \n",
       "3  2019 Population  6360127         BATESVILLE ADMINISTRATION   \n",
       "4  2019 Population  6046331              FALMOUTH COOPERATIVE   \n",
       "\n",
       "                           Name_1.1            place_name  \n",
       "0  ROUSES POINT VILLAGE CORPORATION  ROUSES POINT VILLAGE  \n",
       "1                   LORAIN HOLDINGS                LORAIN  \n",
       "2            ROCKY HILL BOROUGH LLC    ROCKY HILL BOROUGH  \n",
       "3         BATESVILLE ADMINISTRATION            BATESVILLE  \n",
       "4              FALMOUTH COOPERATIVE              FALMOUTH  "
      ]
     },
     "execution_count": 3,
     "metadata": {},
     "output_type": "execute_result"
    }
   ],
   "source": [
    "df.head()"
   ]
  },
  {
   "cell_type": "code",
   "execution_count": 36,
   "metadata": {},
   "outputs": [],
   "source": [
    "df = df[['Dataset', 'Account', 'Name_1', 'place_name']]"
   ]
  },
  {
   "cell_type": "code",
   "execution_count": 43,
   "metadata": {},
   "outputs": [],
   "source": [
    "df['us'] = \", USA\""
   ]
  },
  {
   "cell_type": "code",
   "execution_count": 44,
   "metadata": {},
   "outputs": [],
   "source": [
    "df['new_place_name'] = df['place_name'] + df['us']"
   ]
  },
  {
   "cell_type": "code",
   "execution_count": 48,
   "metadata": {},
   "outputs": [
    {
     "data": {
      "text/html": [
       "<div>\n",
       "<style scoped>\n",
       "    .dataframe tbody tr th:only-of-type {\n",
       "        vertical-align: middle;\n",
       "    }\n",
       "\n",
       "    .dataframe tbody tr th {\n",
       "        vertical-align: top;\n",
       "    }\n",
       "\n",
       "    .dataframe thead th {\n",
       "        text-align: right;\n",
       "    }\n",
       "</style>\n",
       "<table border=\"1\" class=\"dataframe\">\n",
       "  <thead>\n",
       "    <tr style=\"text-align: right;\">\n",
       "      <th></th>\n",
       "      <th>Dataset</th>\n",
       "      <th>Account</th>\n",
       "      <th>Name_1</th>\n",
       "      <th>new_place_name</th>\n",
       "    </tr>\n",
       "  </thead>\n",
       "  <tbody>\n",
       "    <tr>\n",
       "      <td>0</td>\n",
       "      <td>2019 Population</td>\n",
       "      <td>6017231</td>\n",
       "      <td>ROUSES POINT VILLAGE CORPORATION</td>\n",
       "      <td>ROUSES POINT VILLAGE, USA</td>\n",
       "    </tr>\n",
       "    <tr>\n",
       "      <td>1</td>\n",
       "      <td>2019 Population</td>\n",
       "      <td>6361056</td>\n",
       "      <td>LORAIN HOLDINGS</td>\n",
       "      <td>LORAIN, USA</td>\n",
       "    </tr>\n",
       "    <tr>\n",
       "      <td>2</td>\n",
       "      <td>2019 Population</td>\n",
       "      <td>6360157</td>\n",
       "      <td>ROCKY HILL BOROUGH LLC</td>\n",
       "      <td>ROCKY HILL BOROUGH, USA</td>\n",
       "    </tr>\n",
       "    <tr>\n",
       "      <td>3</td>\n",
       "      <td>2019 Population</td>\n",
       "      <td>6360127</td>\n",
       "      <td>BATESVILLE ADMINISTRATION</td>\n",
       "      <td>BATESVILLE, USA</td>\n",
       "    </tr>\n",
       "    <tr>\n",
       "      <td>4</td>\n",
       "      <td>2019 Population</td>\n",
       "      <td>6046331</td>\n",
       "      <td>FALMOUTH COOPERATIVE</td>\n",
       "      <td>FALMOUTH, USA</td>\n",
       "    </tr>\n",
       "  </tbody>\n",
       "</table>\n",
       "</div>"
      ],
      "text/plain": [
       "           Dataset  Account                            Name_1  \\\n",
       "0  2019 Population  6017231  ROUSES POINT VILLAGE CORPORATION   \n",
       "1  2019 Population  6361056                   LORAIN HOLDINGS   \n",
       "2  2019 Population  6360157            ROCKY HILL BOROUGH LLC   \n",
       "3  2019 Population  6360127         BATESVILLE ADMINISTRATION   \n",
       "4  2019 Population  6046331              FALMOUTH COOPERATIVE   \n",
       "\n",
       "              new_place_name  \n",
       "0  ROUSES POINT VILLAGE, USA  \n",
       "1                LORAIN, USA  \n",
       "2    ROCKY HILL BOROUGH, USA  \n",
       "3            BATESVILLE, USA  \n",
       "4              FALMOUTH, USA  "
      ]
     },
     "execution_count": 48,
     "metadata": {},
     "output_type": "execute_result"
    }
   ],
   "source": [
    "df.head()"
   ]
  },
  {
   "cell_type": "code",
   "execution_count": 77,
   "metadata": {},
   "outputs": [
    {
     "data": {
      "text/plain": [
       "Dataset           0\n",
       "Account           0\n",
       "Name_1            0\n",
       "new_place_name    0\n",
       "dtype: int64"
      ]
     },
     "execution_count": 77,
     "metadata": {},
     "output_type": "execute_result"
    }
   ],
   "source": [
    "df.isnull().sum()"
   ]
  },
  {
   "cell_type": "code",
   "execution_count": 82,
   "metadata": {},
   "outputs": [],
   "source": [
    "from geopy.geocoders import Nominatim\n",
    "geolocator = Nominatim(user_agent=\"geoapiExercises\")\n",
    "latitude = []\n",
    "longitude = []\n",
    "for loc in df['new_place_name']:\n",
    "    location = geolocator.geocode(loc)\n",
    "    if location is None:\n",
    "        latitude.append(\"\")\n",
    "        longitude.append(\"\")\n",
    "    else:\n",
    "        latitude.append(location.latitude)\n",
    "        longitude.append(location.longitude)"
   ]
  },
  {
   "cell_type": "code",
   "execution_count": 83,
   "metadata": {},
   "outputs": [
    {
     "name": "stderr",
     "output_type": "stream",
     "text": [
      "C:\\ProgramData\\Anaconda3\\lib\\site-packages\\ipykernel_launcher.py:1: SettingWithCopyWarning:\n",
      "\n",
      "\n",
      "A value is trying to be set on a copy of a slice from a DataFrame.\n",
      "Try using .loc[row_indexer,col_indexer] = value instead\n",
      "\n",
      "See the caveats in the documentation: http://pandas.pydata.org/pandas-docs/stable/user_guide/indexing.html#returning-a-view-versus-a-copy\n",
      "\n"
     ]
    }
   ],
   "source": [
    "df['latitude'] = latitude\n",
    "df['longitude'] = longitude"
   ]
  },
  {
   "cell_type": "code",
   "execution_count": 88,
   "metadata": {},
   "outputs": [],
   "source": [
    "df1 = df[df.latitude == \"\"]"
   ]
  },
  {
   "cell_type": "code",
   "execution_count": 91,
   "metadata": {},
   "outputs": [
    {
     "data": {
      "text/html": [
       "<div>\n",
       "<style scoped>\n",
       "    .dataframe tbody tr th:only-of-type {\n",
       "        vertical-align: middle;\n",
       "    }\n",
       "\n",
       "    .dataframe tbody tr th {\n",
       "        vertical-align: top;\n",
       "    }\n",
       "\n",
       "    .dataframe thead th {\n",
       "        text-align: right;\n",
       "    }\n",
       "</style>\n",
       "<table border=\"1\" class=\"dataframe\">\n",
       "  <thead>\n",
       "    <tr style=\"text-align: right;\">\n",
       "      <th></th>\n",
       "      <th>Dataset</th>\n",
       "      <th>Account</th>\n",
       "      <th>Name_1</th>\n",
       "      <th>new_place_name</th>\n",
       "      <th>latitude</th>\n",
       "      <th>longitude</th>\n",
       "    </tr>\n",
       "  </thead>\n",
       "  <tbody>\n",
       "    <tr>\n",
       "      <td>54</td>\n",
       "      <td>2019 Population</td>\n",
       "      <td>6362863</td>\n",
       "      <td>COLWYN BOROUGH UNIVERSITY</td>\n",
       "      <td>COLWYN BOROUGH, USA</td>\n",
       "      <td></td>\n",
       "      <td></td>\n",
       "    </tr>\n",
       "    <tr>\n",
       "      <td>86</td>\n",
       "      <td>2019 Population</td>\n",
       "      <td>6028142</td>\n",
       "      <td>CLARENDON BOROUGH INSTITUTE</td>\n",
       "      <td>CLARENDON BOROUGH, USA</td>\n",
       "      <td></td>\n",
       "      <td></td>\n",
       "    </tr>\n",
       "    <tr>\n",
       "      <td>94</td>\n",
       "      <td>2019 Population</td>\n",
       "      <td>6014077</td>\n",
       "      <td>BLOOMSBURY BOROUGH COLLEGE</td>\n",
       "      <td>BLOOMSBURY BOROUGH, USA</td>\n",
       "      <td></td>\n",
       "      <td></td>\n",
       "    </tr>\n",
       "    <tr>\n",
       "      <td>179</td>\n",
       "      <td>2019 Population</td>\n",
       "      <td>6014983</td>\n",
       "      <td>POMPTON LAKES BOROUGH INCORPORATED</td>\n",
       "      <td>POMPTON LAKES BOROUGH, USA</td>\n",
       "      <td></td>\n",
       "      <td></td>\n",
       "    </tr>\n",
       "    <tr>\n",
       "      <td>197</td>\n",
       "      <td>2019 Population</td>\n",
       "      <td>5540422</td>\n",
       "      <td>LE RAYSVILLE BOROUGH ENTERPRISES</td>\n",
       "      <td>LE RAYSVILLE BOROUGH, USA</td>\n",
       "      <td></td>\n",
       "      <td></td>\n",
       "    </tr>\n",
       "    <tr>\n",
       "      <td>...</td>\n",
       "      <td>...</td>\n",
       "      <td>...</td>\n",
       "      <td>...</td>\n",
       "      <td>...</td>\n",
       "      <td>...</td>\n",
       "      <td>...</td>\n",
       "    </tr>\n",
       "    <tr>\n",
       "      <td>2634</td>\n",
       "      <td>2020 Population</td>\n",
       "      <td>6371021</td>\n",
       "      <td>COALMONT BOROUGH COMMUNITY</td>\n",
       "      <td>COALMONT BOROUGH, USA</td>\n",
       "      <td></td>\n",
       "      <td></td>\n",
       "    </tr>\n",
       "    <tr>\n",
       "      <td>2636</td>\n",
       "      <td>2020 Population</td>\n",
       "      <td>5531616</td>\n",
       "      <td>SHADE GAP BOROUGH ORGANIZATION</td>\n",
       "      <td>SHADE GAP BOROUGH, USA</td>\n",
       "      <td></td>\n",
       "      <td></td>\n",
       "    </tr>\n",
       "    <tr>\n",
       "      <td>2654</td>\n",
       "      <td>2020 Population</td>\n",
       "      <td>6057033</td>\n",
       "      <td>BEN AVON HEIGHTS BOROUGH ASSOCIATES</td>\n",
       "      <td>BEN AVON HEIGHTS BOROUGH, USA</td>\n",
       "      <td></td>\n",
       "      <td></td>\n",
       "    </tr>\n",
       "    <tr>\n",
       "      <td>2661</td>\n",
       "      <td>2020 Population</td>\n",
       "      <td>5569101</td>\n",
       "      <td>PEN ARGYL BOROUGH GROUP</td>\n",
       "      <td>PEN ARGYL BOROUGH, USA</td>\n",
       "      <td></td>\n",
       "      <td></td>\n",
       "    </tr>\n",
       "    <tr>\n",
       "      <td>2678</td>\n",
       "      <td>2020 Population</td>\n",
       "      <td>6377160</td>\n",
       "      <td>KISTLER BOROUGH AGENCY</td>\n",
       "      <td>KISTLER BOROUGH, USA</td>\n",
       "      <td></td>\n",
       "      <td></td>\n",
       "    </tr>\n",
       "  </tbody>\n",
       "</table>\n",
       "<p>120 rows × 6 columns</p>\n",
       "</div>"
      ],
      "text/plain": [
       "              Dataset  Account                               Name_1  \\\n",
       "54    2019 Population  6362863            COLWYN BOROUGH UNIVERSITY   \n",
       "86    2019 Population  6028142          CLARENDON BOROUGH INSTITUTE   \n",
       "94    2019 Population  6014077           BLOOMSBURY BOROUGH COLLEGE   \n",
       "179   2019 Population  6014983   POMPTON LAKES BOROUGH INCORPORATED   \n",
       "197   2019 Population  5540422     LE RAYSVILLE BOROUGH ENTERPRISES   \n",
       "...               ...      ...                                  ...   \n",
       "2634  2020 Population  6371021           COALMONT BOROUGH COMMUNITY   \n",
       "2636  2020 Population  5531616       SHADE GAP BOROUGH ORGANIZATION   \n",
       "2654  2020 Population  6057033  BEN AVON HEIGHTS BOROUGH ASSOCIATES   \n",
       "2661  2020 Population  5569101              PEN ARGYL BOROUGH GROUP   \n",
       "2678  2020 Population  6377160               KISTLER BOROUGH AGENCY   \n",
       "\n",
       "                     new_place_name latitude longitude  \n",
       "54              COLWYN BOROUGH, USA                     \n",
       "86           CLARENDON BOROUGH, USA                     \n",
       "94          BLOOMSBURY BOROUGH, USA                     \n",
       "179      POMPTON LAKES BOROUGH, USA                     \n",
       "197       LE RAYSVILLE BOROUGH, USA                     \n",
       "...                             ...      ...       ...  \n",
       "2634          COALMONT BOROUGH, USA                     \n",
       "2636         SHADE GAP BOROUGH, USA                     \n",
       "2654  BEN AVON HEIGHTS BOROUGH, USA                     \n",
       "2661         PEN ARGYL BOROUGH, USA                     \n",
       "2678           KISTLER BOROUGH, USA                     \n",
       "\n",
       "[120 rows x 6 columns]"
      ]
     },
     "execution_count": 91,
     "metadata": {},
     "output_type": "execute_result"
    }
   ],
   "source": [
    "df1"
   ]
  },
  {
   "cell_type": "code",
   "execution_count": 96,
   "metadata": {},
   "outputs": [
    {
     "name": "stdout",
     "output_type": "stream",
     "text": [
      "Colwyn, Delaware County, Pennsylvania, United States of America\n"
     ]
    }
   ],
   "source": [
    "from geopy.geocoders import Nominatim\n",
    "geolocator = Nominatim(user_agent=\"geoapiExercises\")\n",
    "location = geolocator.geocode(\"Colwyn\", country_codes = \"us\")\n",
    "print(location)"
   ]
  },
  {
   "cell_type": "code",
   "execution_count": 102,
   "metadata": {},
   "outputs": [
    {
     "name": "stderr",
     "output_type": "stream",
     "text": [
      "C:\\ProgramData\\Anaconda3\\lib\\site-packages\\ipykernel_launcher.py:4: SettingWithCopyWarning:\n",
      "\n",
      "\n",
      "A value is trying to be set on a copy of a slice from a DataFrame.\n",
      "Try using .loc[row_indexer,col_indexer] = value instead\n",
      "\n",
      "See the caveats in the documentation: http://pandas.pydata.org/pandas-docs/stable/user_guide/indexing.html#returning-a-view-versus-a-copy\n",
      "\n"
     ]
    }
   ],
   "source": [
    "x = []\n",
    "for n in df1['new_place_name']:\n",
    "    x.append(n[:-13])\n",
    "df1['new_place_name'] = x"
   ]
  },
  {
   "cell_type": "code",
   "execution_count": 104,
   "metadata": {},
   "outputs": [],
   "source": [
    "from geopy.geocoders import Nominatim\n",
    "geolocator = Nominatim(user_agent=\"geoapiExercises\")\n",
    "latitude = []\n",
    "longitude = []\n",
    "for loc in df1['new_place_name']:\n",
    "    location = geolocator.geocode(loc)\n",
    "    if location is None:\n",
    "        latitude.append(\"\")\n",
    "        longitude.append(\"\")\n",
    "    else:\n",
    "        latitude.append(location.latitude)\n",
    "        longitude.append(location.longitude)"
   ]
  },
  {
   "cell_type": "code",
   "execution_count": 105,
   "metadata": {},
   "outputs": [
    {
     "name": "stderr",
     "output_type": "stream",
     "text": [
      "C:\\ProgramData\\Anaconda3\\lib\\site-packages\\ipykernel_launcher.py:1: SettingWithCopyWarning:\n",
      "\n",
      "\n",
      "A value is trying to be set on a copy of a slice from a DataFrame.\n",
      "Try using .loc[row_indexer,col_indexer] = value instead\n",
      "\n",
      "See the caveats in the documentation: http://pandas.pydata.org/pandas-docs/stable/user_guide/indexing.html#returning-a-view-versus-a-copy\n",
      "\n",
      "C:\\ProgramData\\Anaconda3\\lib\\site-packages\\ipykernel_launcher.py:2: SettingWithCopyWarning:\n",
      "\n",
      "\n",
      "A value is trying to be set on a copy of a slice from a DataFrame.\n",
      "Try using .loc[row_indexer,col_indexer] = value instead\n",
      "\n",
      "See the caveats in the documentation: http://pandas.pydata.org/pandas-docs/stable/user_guide/indexing.html#returning-a-view-versus-a-copy\n",
      "\n"
     ]
    }
   ],
   "source": [
    "df1['latitude'] = latitude\n",
    "df1['longitude'] = longitude"
   ]
  },
  {
   "cell_type": "code",
   "execution_count": 106,
   "metadata": {},
   "outputs": [
    {
     "data": {
      "text/html": [
       "<div>\n",
       "<style scoped>\n",
       "    .dataframe tbody tr th:only-of-type {\n",
       "        vertical-align: middle;\n",
       "    }\n",
       "\n",
       "    .dataframe tbody tr th {\n",
       "        vertical-align: top;\n",
       "    }\n",
       "\n",
       "    .dataframe thead th {\n",
       "        text-align: right;\n",
       "    }\n",
       "</style>\n",
       "<table border=\"1\" class=\"dataframe\">\n",
       "  <thead>\n",
       "    <tr style=\"text-align: right;\">\n",
       "      <th></th>\n",
       "      <th>Dataset</th>\n",
       "      <th>Account</th>\n",
       "      <th>Name_1</th>\n",
       "      <th>new_place_name</th>\n",
       "      <th>latitude</th>\n",
       "      <th>longitude</th>\n",
       "    </tr>\n",
       "  </thead>\n",
       "  <tbody>\n",
       "    <tr>\n",
       "      <td>54</td>\n",
       "      <td>2019 Population</td>\n",
       "      <td>6362863</td>\n",
       "      <td>COLWYN BOROUGH UNIVERSITY</td>\n",
       "      <td>COLWYN</td>\n",
       "      <td>39.9123</td>\n",
       "      <td>-75.2538</td>\n",
       "    </tr>\n",
       "    <tr>\n",
       "      <td>86</td>\n",
       "      <td>2019 Population</td>\n",
       "      <td>6028142</td>\n",
       "      <td>CLARENDON BOROUGH INSTITUTE</td>\n",
       "      <td>CLARENDON</td>\n",
       "      <td>34.9359</td>\n",
       "      <td>-100.891</td>\n",
       "    </tr>\n",
       "    <tr>\n",
       "      <td>94</td>\n",
       "      <td>2019 Population</td>\n",
       "      <td>6014077</td>\n",
       "      <td>BLOOMSBURY BOROUGH COLLEGE</td>\n",
       "      <td>BLOOMSBURY</td>\n",
       "      <td>51.5231</td>\n",
       "      <td>-0.126066</td>\n",
       "    </tr>\n",
       "    <tr>\n",
       "      <td>179</td>\n",
       "      <td>2019 Population</td>\n",
       "      <td>6014983</td>\n",
       "      <td>POMPTON LAKES BOROUGH INCORPORATED</td>\n",
       "      <td>POMPTON LAKES</td>\n",
       "      <td>41.0054</td>\n",
       "      <td>-74.2907</td>\n",
       "    </tr>\n",
       "    <tr>\n",
       "      <td>197</td>\n",
       "      <td>2019 Population</td>\n",
       "      <td>5540422</td>\n",
       "      <td>LE RAYSVILLE BOROUGH ENTERPRISES</td>\n",
       "      <td>LE RAYSVILLE</td>\n",
       "      <td>41.8387</td>\n",
       "      <td>-76.1802</td>\n",
       "    </tr>\n",
       "  </tbody>\n",
       "</table>\n",
       "</div>"
      ],
      "text/plain": [
       "             Dataset  Account                              Name_1  \\\n",
       "54   2019 Population  6362863           COLWYN BOROUGH UNIVERSITY   \n",
       "86   2019 Population  6028142         CLARENDON BOROUGH INSTITUTE   \n",
       "94   2019 Population  6014077          BLOOMSBURY BOROUGH COLLEGE   \n",
       "179  2019 Population  6014983  POMPTON LAKES BOROUGH INCORPORATED   \n",
       "197  2019 Population  5540422    LE RAYSVILLE BOROUGH ENTERPRISES   \n",
       "\n",
       "    new_place_name latitude longitude  \n",
       "54          COLWYN  39.9123  -75.2538  \n",
       "86       CLARENDON  34.9359  -100.891  \n",
       "94      BLOOMSBURY  51.5231 -0.126066  \n",
       "179  POMPTON LAKES  41.0054  -74.2907  \n",
       "197   LE RAYSVILLE  41.8387  -76.1802  "
      ]
     },
     "execution_count": 106,
     "metadata": {},
     "output_type": "execute_result"
    }
   ],
   "source": [
    "df1.head()"
   ]
  },
  {
   "cell_type": "code",
   "execution_count": 109,
   "metadata": {},
   "outputs": [
    {
     "data": {
      "text/html": [
       "<div>\n",
       "<style scoped>\n",
       "    .dataframe tbody tr th:only-of-type {\n",
       "        vertical-align: middle;\n",
       "    }\n",
       "\n",
       "    .dataframe tbody tr th {\n",
       "        vertical-align: top;\n",
       "    }\n",
       "\n",
       "    .dataframe thead th {\n",
       "        text-align: right;\n",
       "    }\n",
       "</style>\n",
       "<table border=\"1\" class=\"dataframe\">\n",
       "  <thead>\n",
       "    <tr style=\"text-align: right;\">\n",
       "      <th></th>\n",
       "      <th>Dataset</th>\n",
       "      <th>Account</th>\n",
       "      <th>Name_1</th>\n",
       "      <th>new_place_name</th>\n",
       "      <th>latitude</th>\n",
       "      <th>longitude</th>\n",
       "    </tr>\n",
       "  </thead>\n",
       "  <tbody>\n",
       "    <tr>\n",
       "      <td>54</td>\n",
       "      <td>2019 Population</td>\n",
       "      <td>6362863</td>\n",
       "      <td>COLWYN BOROUGH UNIVERSITY</td>\n",
       "      <td>COLWYN</td>\n",
       "      <td>39.9123</td>\n",
       "      <td>-75.2538</td>\n",
       "    </tr>\n",
       "    <tr>\n",
       "      <td>86</td>\n",
       "      <td>2019 Population</td>\n",
       "      <td>6028142</td>\n",
       "      <td>CLARENDON BOROUGH INSTITUTE</td>\n",
       "      <td>CLARENDON</td>\n",
       "      <td>34.9359</td>\n",
       "      <td>-100.891</td>\n",
       "    </tr>\n",
       "    <tr>\n",
       "      <td>94</td>\n",
       "      <td>2019 Population</td>\n",
       "      <td>6014077</td>\n",
       "      <td>BLOOMSBURY BOROUGH COLLEGE</td>\n",
       "      <td>BLOOMSBURY</td>\n",
       "      <td>51.5231</td>\n",
       "      <td>-0.126066</td>\n",
       "    </tr>\n",
       "    <tr>\n",
       "      <td>179</td>\n",
       "      <td>2019 Population</td>\n",
       "      <td>6014983</td>\n",
       "      <td>POMPTON LAKES BOROUGH INCORPORATED</td>\n",
       "      <td>POMPTON LAKES</td>\n",
       "      <td>41.0054</td>\n",
       "      <td>-74.2907</td>\n",
       "    </tr>\n",
       "    <tr>\n",
       "      <td>197</td>\n",
       "      <td>2019 Population</td>\n",
       "      <td>5540422</td>\n",
       "      <td>LE RAYSVILLE BOROUGH ENTERPRISES</td>\n",
       "      <td>LE RAYSVILLE</td>\n",
       "      <td>41.8387</td>\n",
       "      <td>-76.1802</td>\n",
       "    </tr>\n",
       "  </tbody>\n",
       "</table>\n",
       "</div>"
      ],
      "text/plain": [
       "             Dataset  Account                              Name_1  \\\n",
       "54   2019 Population  6362863           COLWYN BOROUGH UNIVERSITY   \n",
       "86   2019 Population  6028142         CLARENDON BOROUGH INSTITUTE   \n",
       "94   2019 Population  6014077          BLOOMSBURY BOROUGH COLLEGE   \n",
       "179  2019 Population  6014983  POMPTON LAKES BOROUGH INCORPORATED   \n",
       "197  2019 Population  5540422    LE RAYSVILLE BOROUGH ENTERPRISES   \n",
       "\n",
       "    new_place_name latitude longitude  \n",
       "54          COLWYN  39.9123  -75.2538  \n",
       "86       CLARENDON  34.9359  -100.891  \n",
       "94      BLOOMSBURY  51.5231 -0.126066  \n",
       "179  POMPTON LAKES  41.0054  -74.2907  \n",
       "197   LE RAYSVILLE  41.8387  -76.1802  "
      ]
     },
     "execution_count": 109,
     "metadata": {},
     "output_type": "execute_result"
    }
   ],
   "source": [
    "df1.head()"
   ]
  },
  {
   "cell_type": "code",
   "execution_count": 110,
   "metadata": {},
   "outputs": [],
   "source": [
    "x = df1.index"
   ]
  },
  {
   "cell_type": "code",
   "execution_count": 111,
   "metadata": {},
   "outputs": [
    {
     "name": "stdout",
     "output_type": "stream",
     "text": [
      "Int64Index([  54,   86,   94,  179,  197,  256,  260,  266,  269,  271,\n",
      "            ...\n",
      "            2511, 2514, 2573, 2599, 2633, 2634, 2636, 2654, 2661, 2678],\n",
      "           dtype='int64', length=120)\n"
     ]
    }
   ],
   "source": [
    "print(x)"
   ]
  },
  {
   "cell_type": "code",
   "execution_count": 112,
   "metadata": {},
   "outputs": [],
   "source": [
    "df_final = df`"
   ]
  },
  {
   "cell_type": "code",
   "execution_count": 122,
   "metadata": {},
   "outputs": [],
   "source": [
    "for i in x:\n",
    "    df.ix[i,'new_place_name'] = df1.ix[i, 'new_place_name']\n",
    "    df.ix[i,'latitude'] = df1.ix[i, 'latitude']\n",
    "    df.ix[i,'longitude'] = df1.ix[i, 'longitude']"
   ]
  },
  {
   "cell_type": "code",
   "execution_count": 124,
   "metadata": {},
   "outputs": [
    {
     "data": {
      "text/html": [
       "<div>\n",
       "<style scoped>\n",
       "    .dataframe tbody tr th:only-of-type {\n",
       "        vertical-align: middle;\n",
       "    }\n",
       "\n",
       "    .dataframe tbody tr th {\n",
       "        vertical-align: top;\n",
       "    }\n",
       "\n",
       "    .dataframe thead th {\n",
       "        text-align: right;\n",
       "    }\n",
       "</style>\n",
       "<table border=\"1\" class=\"dataframe\">\n",
       "  <thead>\n",
       "    <tr style=\"text-align: right;\">\n",
       "      <th></th>\n",
       "      <th>Dataset</th>\n",
       "      <th>Account</th>\n",
       "      <th>Name_1</th>\n",
       "      <th>new_place_name</th>\n",
       "      <th>latitude</th>\n",
       "      <th>longitude</th>\n",
       "    </tr>\n",
       "  </thead>\n",
       "  <tbody>\n",
       "    <tr>\n",
       "      <td>523</td>\n",
       "      <td>2019 Population</td>\n",
       "      <td>6031126</td>\n",
       "      <td>OAK RIDGE TOWN (KAUFMAN COUNTY) ENTERPRISES</td>\n",
       "      <td>OAK RIDGE TOWN (KAUFMAN</td>\n",
       "      <td></td>\n",
       "      <td></td>\n",
       "    </tr>\n",
       "    <tr>\n",
       "      <td>1830</td>\n",
       "      <td>2019 Population</td>\n",
       "      <td>6360837</td>\n",
       "      <td>GREELEY COUNTY UNIFIED GOVERNMENT (BALANCE) HO...</td>\n",
       "      <td>GREELEY COUNTY UNIFIED GOVERNMENT (</td>\n",
       "      <td></td>\n",
       "      <td></td>\n",
       "    </tr>\n",
       "  </tbody>\n",
       "</table>\n",
       "</div>"
      ],
      "text/plain": [
       "              Dataset  Account  \\\n",
       "523   2019 Population  6031126   \n",
       "1830  2019 Population  6360837   \n",
       "\n",
       "                                                 Name_1  \\\n",
       "523         OAK RIDGE TOWN (KAUFMAN COUNTY) ENTERPRISES   \n",
       "1830  GREELEY COUNTY UNIFIED GOVERNMENT (BALANCE) HO...   \n",
       "\n",
       "                           new_place_name latitude longitude  \n",
       "523               OAK RIDGE TOWN (KAUFMAN                     \n",
       "1830  GREELEY COUNTY UNIFIED GOVERNMENT (                     "
      ]
     },
     "execution_count": 124,
     "metadata": {},
     "output_type": "execute_result"
    }
   ],
   "source": [
    "df"
   ]
  },
  {
   "cell_type": "code",
   "execution_count": 126,
   "metadata": {},
   "outputs": [],
   "source": [
    "x = pd.read_excel(\"customers.xlsx\")"
   ]
  },
  {
   "cell_type": "code",
   "execution_count": 128,
   "metadata": {},
   "outputs": [],
   "source": [
    "df['new_place_name'] = x['place_name']"
   ]
  },
  {
   "cell_type": "code",
   "execution_count": 129,
   "metadata": {},
   "outputs": [
    {
     "data": {
      "text/html": [
       "<div>\n",
       "<style scoped>\n",
       "    .dataframe tbody tr th:only-of-type {\n",
       "        vertical-align: middle;\n",
       "    }\n",
       "\n",
       "    .dataframe tbody tr th {\n",
       "        vertical-align: top;\n",
       "    }\n",
       "\n",
       "    .dataframe thead th {\n",
       "        text-align: right;\n",
       "    }\n",
       "</style>\n",
       "<table border=\"1\" class=\"dataframe\">\n",
       "  <thead>\n",
       "    <tr style=\"text-align: right;\">\n",
       "      <th></th>\n",
       "      <th>Dataset</th>\n",
       "      <th>Account</th>\n",
       "      <th>Name_1</th>\n",
       "      <th>new_place_name</th>\n",
       "      <th>latitude</th>\n",
       "      <th>longitude</th>\n",
       "    </tr>\n",
       "  </thead>\n",
       "  <tbody>\n",
       "    <tr>\n",
       "      <td>0</td>\n",
       "      <td>2019 Population</td>\n",
       "      <td>6017231</td>\n",
       "      <td>ROUSES POINT VILLAGE CORPORATION</td>\n",
       "      <td>ROUSES POINT VILLAGE</td>\n",
       "      <td>44.9939</td>\n",
       "      <td>-73.365</td>\n",
       "    </tr>\n",
       "    <tr>\n",
       "      <td>1</td>\n",
       "      <td>2019 Population</td>\n",
       "      <td>6361056</td>\n",
       "      <td>LORAIN HOLDINGS</td>\n",
       "      <td>LORAIN</td>\n",
       "      <td>41.2634</td>\n",
       "      <td>-82.1735</td>\n",
       "    </tr>\n",
       "    <tr>\n",
       "      <td>2</td>\n",
       "      <td>2019 Population</td>\n",
       "      <td>6360157</td>\n",
       "      <td>ROCKY HILL BOROUGH LLC</td>\n",
       "      <td>ROCKY HILL BOROUGH</td>\n",
       "      <td>59.2772</td>\n",
       "      <td>-151.403</td>\n",
       "    </tr>\n",
       "    <tr>\n",
       "      <td>3</td>\n",
       "      <td>2019 Population</td>\n",
       "      <td>6360127</td>\n",
       "      <td>BATESVILLE ADMINISTRATION</td>\n",
       "      <td>BATESVILLE</td>\n",
       "      <td>35.7698</td>\n",
       "      <td>-91.641</td>\n",
       "    </tr>\n",
       "    <tr>\n",
       "      <td>4</td>\n",
       "      <td>2019 Population</td>\n",
       "      <td>6046331</td>\n",
       "      <td>FALMOUTH COOPERATIVE</td>\n",
       "      <td>FALMOUTH</td>\n",
       "      <td>38.6767</td>\n",
       "      <td>-84.3305</td>\n",
       "    </tr>\n",
       "  </tbody>\n",
       "</table>\n",
       "</div>"
      ],
      "text/plain": [
       "           Dataset  Account                            Name_1  \\\n",
       "0  2019 Population  6017231  ROUSES POINT VILLAGE CORPORATION   \n",
       "1  2019 Population  6361056                   LORAIN HOLDINGS   \n",
       "2  2019 Population  6360157            ROCKY HILL BOROUGH LLC   \n",
       "3  2019 Population  6360127         BATESVILLE ADMINISTRATION   \n",
       "4  2019 Population  6046331              FALMOUTH COOPERATIVE   \n",
       "\n",
       "         new_place_name latitude longitude  \n",
       "0  ROUSES POINT VILLAGE  44.9939   -73.365  \n",
       "1                LORAIN  41.2634  -82.1735  \n",
       "2    ROCKY HILL BOROUGH  59.2772  -151.403  \n",
       "3            BATESVILLE  35.7698   -91.641  \n",
       "4              FALMOUTH  38.6767  -84.3305  "
      ]
     },
     "execution_count": 129,
     "metadata": {},
     "output_type": "execute_result"
    }
   ],
   "source": [
    "df.head()"
   ]
  },
  {
   "cell_type": "code",
   "execution_count": 130,
   "metadata": {},
   "outputs": [],
   "source": [
    "df.to_excel(r'B:\\customer.xlsx', index = False)"
   ]
  },
  {
   "cell_type": "code",
   "execution_count": 132,
   "metadata": {},
   "outputs": [
    {
     "name": "stdout",
     "output_type": "stream",
     "text": [
      "38.4570355\n",
      "-101.8185007\n"
     ]
    }
   ],
   "source": [
    "from geopy.geocoders import Nominatim\n",
    "geolocator = Nominatim(user_agent=\"geoapiExercises\")\n",
    "location = geolocator.geocode(\"GREELEY COUNTY\", country_codes=\"us\")\n",
    "print(location.latitude)\n",
    "print(location.longitude)"
   ]
  },
  {
   "cell_type": "code",
   "execution_count": 186,
   "metadata": {},
   "outputs": [],
   "source": [
    "df = pd.read_excel(\"customer_new.xlsx\")"
   ]
  },
  {
   "cell_type": "code",
   "execution_count": 141,
   "metadata": {},
   "outputs": [],
   "source": [
    "df['coord'] = df['latitude'].astype(str)+\", \"+df[\"longitude\"].astype(str)"
   ]
  },
  {
   "cell_type": "code",
   "execution_count": 142,
   "metadata": {},
   "outputs": [
    {
     "data": {
      "text/html": [
       "<div>\n",
       "<style scoped>\n",
       "    .dataframe tbody tr th:only-of-type {\n",
       "        vertical-align: middle;\n",
       "    }\n",
       "\n",
       "    .dataframe tbody tr th {\n",
       "        vertical-align: top;\n",
       "    }\n",
       "\n",
       "    .dataframe thead th {\n",
       "        text-align: right;\n",
       "    }\n",
       "</style>\n",
       "<table border=\"1\" class=\"dataframe\">\n",
       "  <thead>\n",
       "    <tr style=\"text-align: right;\">\n",
       "      <th></th>\n",
       "      <th>Dataset</th>\n",
       "      <th>Account</th>\n",
       "      <th>customer_name</th>\n",
       "      <th>county_name</th>\n",
       "      <th>latitude</th>\n",
       "      <th>longitude</th>\n",
       "      <th>coord</th>\n",
       "    </tr>\n",
       "  </thead>\n",
       "  <tbody>\n",
       "    <tr>\n",
       "      <td>0</td>\n",
       "      <td>2019 Population</td>\n",
       "      <td>6017231</td>\n",
       "      <td>ROUSES POINT VILLAGE CORPORATION</td>\n",
       "      <td>ROUSES POINT VILLAGE</td>\n",
       "      <td>44.993940</td>\n",
       "      <td>-73.364983</td>\n",
       "      <td>44.99394, -73.364983</td>\n",
       "    </tr>\n",
       "    <tr>\n",
       "      <td>1</td>\n",
       "      <td>2019 Population</td>\n",
       "      <td>6361056</td>\n",
       "      <td>LORAIN HOLDINGS</td>\n",
       "      <td>LORAIN</td>\n",
       "      <td>41.263355</td>\n",
       "      <td>-82.173475</td>\n",
       "      <td>41.2633554, -82.1734746</td>\n",
       "    </tr>\n",
       "    <tr>\n",
       "      <td>2</td>\n",
       "      <td>2019 Population</td>\n",
       "      <td>6360157</td>\n",
       "      <td>ROCKY HILL BOROUGH LLC</td>\n",
       "      <td>ROCKY HILL BOROUGH</td>\n",
       "      <td>59.277151</td>\n",
       "      <td>-151.403349</td>\n",
       "      <td>59.2771509, -151.4033488</td>\n",
       "    </tr>\n",
       "    <tr>\n",
       "      <td>3</td>\n",
       "      <td>2019 Population</td>\n",
       "      <td>6360127</td>\n",
       "      <td>BATESVILLE ADMINISTRATION</td>\n",
       "      <td>BATESVILLE</td>\n",
       "      <td>35.769799</td>\n",
       "      <td>-91.640972</td>\n",
       "      <td>35.769799, -91.6409722</td>\n",
       "    </tr>\n",
       "    <tr>\n",
       "      <td>4</td>\n",
       "      <td>2019 Population</td>\n",
       "      <td>6046331</td>\n",
       "      <td>FALMOUTH COOPERATIVE</td>\n",
       "      <td>FALMOUTH</td>\n",
       "      <td>38.676737</td>\n",
       "      <td>-84.330459</td>\n",
       "      <td>38.6767366, -84.3304592</td>\n",
       "    </tr>\n",
       "  </tbody>\n",
       "</table>\n",
       "</div>"
      ],
      "text/plain": [
       "           Dataset  Account                     customer_name  \\\n",
       "0  2019 Population  6017231  ROUSES POINT VILLAGE CORPORATION   \n",
       "1  2019 Population  6361056                   LORAIN HOLDINGS   \n",
       "2  2019 Population  6360157            ROCKY HILL BOROUGH LLC   \n",
       "3  2019 Population  6360127         BATESVILLE ADMINISTRATION   \n",
       "4  2019 Population  6046331              FALMOUTH COOPERATIVE   \n",
       "\n",
       "            county_name   latitude   longitude                     coord  \n",
       "0  ROUSES POINT VILLAGE  44.993940  -73.364983      44.99394, -73.364983  \n",
       "1                LORAIN  41.263355  -82.173475   41.2633554, -82.1734746  \n",
       "2    ROCKY HILL BOROUGH  59.277151 -151.403349  59.2771509, -151.4033488  \n",
       "3            BATESVILLE  35.769799  -91.640972    35.769799, -91.6409722  \n",
       "4              FALMOUTH  38.676737  -84.330459   38.6767366, -84.3304592  "
      ]
     },
     "execution_count": 142,
     "metadata": {},
     "output_type": "execute_result"
    }
   ],
   "source": [
    "df.head()"
   ]
  },
  {
   "cell_type": "code",
   "execution_count": 144,
   "metadata": {},
   "outputs": [],
   "source": [
    "from geopy.geocoders import Nominatim\n",
    "geolocator = Nominatim(user_agent=\"geoapiExercises\")\n",
    "def state_(coord):\n",
    "    location = geolocator.reverse(coord, exactly_one=True)\n",
    "    address = location.raw['address']\n",
    "    state = address.get('state', '')    \n",
    "    return state\n",
    "state = []\n",
    "for coord in df['coord']:\n",
    "    x = state_(coord)\n",
    "    state.append(x)"
   ]
  },
  {
   "cell_type": "code",
   "execution_count": 145,
   "metadata": {},
   "outputs": [],
   "source": [
    "df['state'] = state"
   ]
  },
  {
   "cell_type": "code",
   "execution_count": 147,
   "metadata": {},
   "outputs": [],
   "source": [
    "df.drop(['coord'], axis=1, inplace=True)"
   ]
  },
  {
   "cell_type": "code",
   "execution_count": 150,
   "metadata": {},
   "outputs": [
    {
     "name": "stdout",
     "output_type": "stream",
     "text": [
      "Collecting us\n",
      "  Downloading https://files.pythonhosted.org/packages/88/04/04323aefa1871de30286d3decae7706481c73bd428cf0c08e158bfa259a6/us-2.0.2.tar.gz\n",
      "Collecting jellyfish==0.6.1 (from us)\n",
      "  Downloading https://files.pythonhosted.org/packages/61/3f/60ac86fb43dfbf976768e80674b5538e535f6eca5aa7806cf2fdfd63550f/jellyfish-0.6.1.tar.gz (132kB)\n",
      "Building wheels for collected packages: us, jellyfish\n",
      "  Building wheel for us (setup.py): started\n",
      "  Building wheel for us (setup.py): finished with status 'done'\n",
      "  Created wheel for us: filename=us-2.0.2-cp37-none-any.whl size=11934 sha256=ba13523a5279f0a3f509614294390de227ecc1cbf0073409adfd273fcad90913\n",
      "  Stored in directory: C:\\Users\\vishw\\AppData\\Local\\pip\\Cache\\wheels\\e2\\16\\45\\6453383ffa495670f0f6b80a3e697a9771d98cfbaf8b451e73\n",
      "  Building wheel for jellyfish (setup.py): started\n",
      "  Building wheel for jellyfish (setup.py): finished with status 'done'\n",
      "  Created wheel for jellyfish: filename=jellyfish-0.6.1-cp37-none-any.whl size=10384 sha256=32379bce70649afa7a0d91a52158f0ce60cd1909c0aaed14c6327ba7662f9d16\n",
      "  Stored in directory: C:\\Users\\vishw\\AppData\\Local\\pip\\Cache\\wheels\\9c\\6f\\33\\92bb9a4b4562a60ba6a80cedbab8907e48bc7a8b1f369ea0ae\n",
      "Successfully built us jellyfish\n",
      "Installing collected packages: jellyfish, us\n",
      "Successfully installed jellyfish-0.6.1 us-2.0.2\n",
      "Note: you may need to restart the kernel to use updated packages.\n"
     ]
    }
   ],
   "source": [
    "pip install us"
   ]
  },
  {
   "cell_type": "code",
   "execution_count": 192,
   "metadata": {},
   "outputs": [
    {
     "data": {
      "text/plain": [
       "51"
      ]
     },
     "execution_count": 192,
     "metadata": {},
     "output_type": "execute_result"
    }
   ],
   "source": [
    "df['state'].nunique()"
   ]
  },
  {
   "cell_type": "code",
   "execution_count": 193,
   "metadata": {},
   "outputs": [
    {
     "name": "stdout",
     "output_type": "stream",
     "text": [
      "Saint Thomas, Saint Thomas - Saint John District, United States Virgin Islands, United States of America\n",
      "18.34290815\n",
      "-64.91889970060265\n"
     ]
    }
   ],
   "source": [
    "from geopy.geocoders import Nominatim\n",
    "geolocator = Nominatim(user_agent=\"geoapiExercises\")\n",
    "location = geolocator.geocode(\"ST. THOMAS\",country_codes = \"us\")\n",
    "print(location)\n",
    "print(location.latitude)\n",
    "print(location.longitude)"
   ]
  }
 ],
 "metadata": {
  "kernelspec": {
   "display_name": "Python 3",
   "language": "python",
   "name": "python3"
  },
  "language_info": {
   "codemirror_mode": {
    "name": "ipython",
    "version": 3
   },
   "file_extension": ".py",
   "mimetype": "text/x-python",
   "name": "python",
   "nbconvert_exporter": "python",
   "pygments_lexer": "ipython3",
   "version": "3.7.4"
  }
 },
 "nbformat": 4,
 "nbformat_minor": 2
}
